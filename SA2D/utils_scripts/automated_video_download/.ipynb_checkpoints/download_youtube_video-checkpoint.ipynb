{
 "cells": [
  {
   "cell_type": "markdown",
   "metadata": {},
   "source": [
    "## LAST CELL WORKS!"
   ]
  },
  {
   "cell_type": "code",
   "execution_count": 1,
   "metadata": {},
   "outputs": [],
   "source": [
    "from datetime import datetime, timezone\n",
    "import time\n",
    "import os\n",
    "import subprocess\n",
    "import signal\n",
    "\n",
    "def download_video(video_url, dest_path):\n",
    "    command = ['yt-dlp', '-o', dest_path, '--no-live-from-start', video_url, '--hls-use-mpegts']\n",
    "\n",
    "    pro = subprocess.Popen(command) \n",
    "    time.sleep(8)\n",
    "    os.kill(pro.pid, signal.CTRL_C_EVENT)\n",
    "\n",
    "def extract_id(yt_link):\n",
    "    video_id = yt_link.split('=')[-1]\n",
    "    return video_id\n",
    "\n",
    "def current_time():\n",
    "    # Get current time in UTC\n",
    "    current_time_utc = datetime.now(timezone.utc)\n",
    "\n",
    "    # format time\n",
    "    formatted_utc_time = current_time_utc.strftime(\"%Y-%m-%d_%H:%M:%S_UTC\")\n",
    "\n",
    "    return formatted_utc_time\n",
    "\n",
    "def make_dest_path(yt_link):\n",
    "    video_id = extract_id(yt_link)\n",
    "    video_name = video_id + \"_\" + current_time() + \".%(ext)s\"\n",
    "    path = \".//downloads//\" + video_id + \"//\" + video_name\n",
    "\n",
    "    return path"
   ]
  },
  {
   "cell_type": "code",
   "execution_count": 2,
   "metadata": {},
   "outputs": [],
   "source": [
    "yt_links = [\n",
    "    'https://www.youtube.com/watch?v=3LXQWU67Ufk',\n",
    "    'https://www.youtube.com/watch?v=ByED80IKdIU',\n",
    "    'https://www.youtube.com/watch?v=fdyVyywMo6c',\n",
    "    'https://www.youtube.com/watch?v=1fiF7B6VkCk',\n",
    "    'https://www.youtube.com/watch?v=qgNTbBn0JCY',\n",
    "    'https://www.youtube.com/watch?v=GIwaYG1i-DQ',\n",
    "    'https://www.youtube.com/watch?v=TfOOzM6mPT4',\n",
    "    'https://www.youtube.com/watch?v=flmQW0satXI',\n",
    "    'https://www.youtube.com/watch?v=hPFTPKFTF88',\n",
    "    'https://www.youtube.com/watch?v=hxJ-QbxUqP8',\n",
    "    'https://www.youtube.com/watch?v=-CFAcRLZqnM',\n",
    "    'https://www.youtube.com/watch?v=h1wly909BYw',\n",
    "    'https://www.youtube.com/watch?v=KPrrWB1eo1I'\n",
    "]"
   ]
  },
  {
   "cell_type": "code",
   "execution_count": null,
   "metadata": {},
   "outputs": [
    {
     "name": "stdout",
     "output_type": "stream",
     "text": [
      "Downloaded 1 video(s)\n"
     ]
    }
   ],
   "source": [
    "video_count = 0\n",
    "index = 0\n",
    "while video_count < 500:\n",
    "    if (index == len(yt_links)):\n",
    "        index = 0\n",
    "    \n",
    "    try:\n",
    "        video_url = yt_links[index]\n",
    "        download_video(video_url, make_dest_path(video_url))\n",
    "    except:\n",
    "        print(\"FAILED!!!!!!!!!!!!\", video_url)\n",
    "\n",
    "    video_count += 1\n",
    "    index += 1\n",
    "    print(\"Downloaded\", video_count, \"video(s)\")\n",
    "\n",
    "    for i in range(10):\n",
    "        try:\n",
    "            time.sleep(1)\n",
    "        except:\n",
    "            print(\"sleep\", i)"
   ]
  },
  {
   "cell_type": "code",
   "execution_count": null,
   "metadata": {},
   "outputs": [],
   "source": []
  }
 ],
 "metadata": {
  "kernelspec": {
   "display_name": "Python 3 (ipykernel)",
   "language": "python",
   "name": "python3"
  },
  "language_info": {
   "codemirror_mode": {
    "name": "ipython",
    "version": 3
   },
   "file_extension": ".py",
   "mimetype": "text/x-python",
   "name": "python",
   "nbconvert_exporter": "python",
   "pygments_lexer": "ipython3",
   "version": "3.11.3"
  }
 },
 "nbformat": 4,
 "nbformat_minor": 2
}
